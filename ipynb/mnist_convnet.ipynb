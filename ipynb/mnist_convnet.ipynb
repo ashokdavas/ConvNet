{
  "nbformat": 4,
  "nbformat_minor": 0,
  "metadata": {
    "colab": {
      "name": "mnist_convnet",
      "provenance": [],
      "collapsed_sections": [],
      "toc_visible": true
    },
    "kernelspec": {
      "display_name": "Python 3",
      "language": "python",
      "name": "python3"
    },
    "language_info": {
      "codemirror_mode": {
        "name": "ipython",
        "version": 3
      },
      "file_extension": ".py",
      "mimetype": "text/x-python",
      "name": "python",
      "nbconvert_exporter": "python",
      "pygments_lexer": "ipython3",
      "version": "3.7.0"
    },
    "accelerator": "GPU"
  },
  "cells": [
    {
      "cell_type": "markdown",
      "metadata": {
        "id": "FFenPhMyPl4O"
      },
      "source": [
        "## Setup"
      ]
    },
    {
      "cell_type": "code",
      "metadata": {
        "id": "T9A4Ax_0Pl4P"
      },
      "source": [
        "import numpy as np\n",
        "from tensorflow import keras\n",
        "from tensorflow.keras import layers"
      ],
      "execution_count": 1,
      "outputs": []
    },
    {
      "cell_type": "markdown",
      "metadata": {
        "id": "2K2I9nGIPl4R"
      },
      "source": [
        "## Prepare the data"
      ]
    },
    {
      "cell_type": "code",
      "metadata": {
        "id": "kb0Rui-UPl4R",
        "outputId": "79dbdf0e-83c4-494c-ab70-e4e17e109385",
        "colab": {
          "base_uri": "https://localhost:8080/"
        }
      },
      "source": [
        "# Model / data parameters\n",
        "num_classes = 10\n",
        "input_shape = (28, 28, 1)\n",
        "\n",
        "# the data, split between train and test sets\n",
        "(x_train, y_train), (x_test, y_test) = keras.datasets.mnist.load_data()\n",
        "\n",
        "# Scale images to the [0, 1] range\n",
        "x_train = x_train.astype(\"float32\") / 255\n",
        "x_test = x_test.astype(\"float32\") / 255\n",
        "\n",
        "# Make sure images have shape (28, 28, 1)\n",
        "x_train = np.expand_dims(x_train, -1)\n",
        "x_test = np.expand_dims(x_test, -1)\n",
        "\n",
        "print(\"x_train shape:\", x_train.shape)\n",
        "print(x_train.shape[0], \"train samples\")\n",
        "print(x_test.shape[0], \"test samples\")\n",
        "\n",
        "\n",
        "# convert class vectors to binary class matrices\n",
        "y_train = keras.utils.to_categorical(y_train, num_classes)\n",
        "y_test = keras.utils.to_categorical(y_test, num_classes)"
      ],
      "execution_count": 2,
      "outputs": [
        {
          "output_type": "stream",
          "name": "stdout",
          "text": [
            "Downloading data from https://storage.googleapis.com/tensorflow/tf-keras-datasets/mnist.npz\n",
            "11493376/11490434 [==============================] - 0s 0us/step\n",
            "11501568/11490434 [==============================] - 0s 0us/step\n",
            "x_train shape: (60000, 28, 28, 1)\n",
            "60000 train samples\n",
            "10000 test samples\n"
          ]
        }
      ]
    },
    {
      "cell_type": "markdown",
      "metadata": {
        "id": "9qq-X4dhPl4S"
      },
      "source": [
        "## Build the model"
      ]
    },
    {
      "cell_type": "code",
      "metadata": {
        "id": "diAKeDCRPl4T",
        "outputId": "f10f0ed7-7a9d-4378-d668-3f2aad567f5a",
        "colab": {
          "base_uri": "https://localhost:8080/"
        }
      },
      "source": [
        "model = keras.Sequential(\n",
        "    [\n",
        "        keras.Input(shape=input_shape),\n",
        "        layers.Conv2D(32, kernel_size=(3, 3), activation=\"relu\", padding = \"same\"),\n",
        "        layers.MaxPooling2D(pool_size=(2, 2)),\n",
        "     \n",
        "        layers.Conv2D(64, kernel_size=(3, 3), activation=\"relu\", padding = \"same\"),\n",
        "        layers.MaxPooling2D(pool_size=(2, 2)),\n",
        "     \n",
        "        layers.Conv2D(128, kernel_size=(3, 3), activation=\"relu\", padding = \"same\"),\n",
        "        layers.MaxPooling2D(pool_size=(3, 3)),\n",
        "     \n",
        "        layers.Flatten(),\n",
        "        layers.Dropout(0.5),\n",
        "        layers.Dense(num_classes, activation=\"softmax\"),\n",
        "    ]\n",
        ")\n",
        "\n",
        "model.summary()"
      ],
      "execution_count": 16,
      "outputs": [
        {
          "output_type": "stream",
          "name": "stdout",
          "text": [
            "Model: \"sequential_7\"\n",
            "_________________________________________________________________\n",
            "Layer (type)                 Output Shape              Param #   \n",
            "=================================================================\n",
            "conv2d_23 (Conv2D)           (None, 28, 28, 32)        320       \n",
            "_________________________________________________________________\n",
            "max_pooling2d_23 (MaxPooling (None, 14, 14, 32)        0         \n",
            "_________________________________________________________________\n",
            "conv2d_24 (Conv2D)           (None, 14, 14, 64)        18496     \n",
            "_________________________________________________________________\n",
            "max_pooling2d_24 (MaxPooling (None, 7, 7, 64)          0         \n",
            "_________________________________________________________________\n",
            "conv2d_25 (Conv2D)           (None, 7, 7, 128)         73856     \n",
            "_________________________________________________________________\n",
            "max_pooling2d_25 (MaxPooling (None, 2, 2, 128)         0         \n",
            "_________________________________________________________________\n",
            "flatten_7 (Flatten)          (None, 512)               0         \n",
            "_________________________________________________________________\n",
            "dropout_9 (Dropout)          (None, 512)               0         \n",
            "_________________________________________________________________\n",
            "dense_7 (Dense)              (None, 10)                5130      \n",
            "=================================================================\n",
            "Total params: 97,802\n",
            "Trainable params: 97,802\n",
            "Non-trainable params: 0\n",
            "_________________________________________________________________\n"
          ]
        }
      ]
    },
    {
      "cell_type": "markdown",
      "metadata": {
        "id": "H6jea7osPl4U"
      },
      "source": [
        "## Train the model"
      ]
    },
    {
      "cell_type": "code",
      "metadata": {
        "id": "a3v5uSqlPl4V",
        "outputId": "aa0a70b0-a7b5-4dc8-b15b-e87085380317",
        "colab": {
          "base_uri": "https://localhost:8080/"
        }
      },
      "source": [
        "batch_size = 128\n",
        "epochs = 10\n",
        "\n",
        "model.compile(loss=\"categorical_crossentropy\", optimizer=\"adam\", metrics=[\"accuracy\"])\n",
        "\n",
        "model.fit(x_train, y_train, batch_size=batch_size, epochs=epochs, validation_split=0.1)"
      ],
      "execution_count": 19,
      "outputs": [
        {
          "output_type": "stream",
          "name": "stdout",
          "text": [
            "Epoch 1/10\n",
            "422/422 [==============================] - 6s 12ms/step - loss: 0.0194 - accuracy: 0.9934 - val_loss: 0.0200 - val_accuracy: 0.9952\n",
            "Epoch 2/10\n",
            "422/422 [==============================] - 5s 11ms/step - loss: 0.0177 - accuracy: 0.9943 - val_loss: 0.0209 - val_accuracy: 0.9943\n",
            "Epoch 3/10\n",
            "422/422 [==============================] - 5s 11ms/step - loss: 0.0181 - accuracy: 0.9943 - val_loss: 0.0257 - val_accuracy: 0.9930\n",
            "Epoch 4/10\n",
            "422/422 [==============================] - 5s 11ms/step - loss: 0.0151 - accuracy: 0.9949 - val_loss: 0.0213 - val_accuracy: 0.9950\n",
            "Epoch 5/10\n",
            "422/422 [==============================] - 5s 11ms/step - loss: 0.0152 - accuracy: 0.9949 - val_loss: 0.0197 - val_accuracy: 0.9942\n",
            "Epoch 6/10\n",
            "422/422 [==============================] - 5s 11ms/step - loss: 0.0146 - accuracy: 0.9951 - val_loss: 0.0228 - val_accuracy: 0.9947\n",
            "Epoch 7/10\n",
            "422/422 [==============================] - 5s 11ms/step - loss: 0.0137 - accuracy: 0.9956 - val_loss: 0.0230 - val_accuracy: 0.9940\n",
            "Epoch 8/10\n",
            "422/422 [==============================] - 5s 11ms/step - loss: 0.0140 - accuracy: 0.9952 - val_loss: 0.0309 - val_accuracy: 0.9935\n",
            "Epoch 9/10\n",
            "422/422 [==============================] - 5s 12ms/step - loss: 0.0136 - accuracy: 0.9953 - val_loss: 0.0226 - val_accuracy: 0.9947\n",
            "Epoch 10/10\n",
            "422/422 [==============================] - 5s 11ms/step - loss: 0.0121 - accuracy: 0.9958 - val_loss: 0.0252 - val_accuracy: 0.9942\n"
          ]
        },
        {
          "output_type": "execute_result",
          "data": {
            "text/plain": [
              "<keras.callbacks.History at 0x7f94405b2e90>"
            ]
          },
          "metadata": {},
          "execution_count": 19
        }
      ]
    },
    {
      "cell_type": "markdown",
      "metadata": {
        "id": "WL2DV7qLPl4X"
      },
      "source": [
        "## Evaluate the trained model"
      ]
    },
    {
      "cell_type": "code",
      "metadata": {
        "id": "fTwRAZGXPl4X",
        "outputId": "b10bb572-eb0f-45ae-dcf9-699a3301ed74",
        "colab": {
          "base_uri": "https://localhost:8080/"
        }
      },
      "source": [
        "score = model.evaluate(x_test, y_test, verbose=0)\n",
        "print(\"Test loss:\", score[0])\n",
        "print(\"Test accuracy:\", score[1])"
      ],
      "execution_count": 20,
      "outputs": [
        {
          "output_type": "stream",
          "name": "stdout",
          "text": [
            "Test loss: 0.02083216793835163\n",
            "Test accuracy: 0.9940999746322632\n"
          ]
        }
      ]
    }
  ]
}